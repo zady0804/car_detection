{
 "cells": [
  {
   "cell_type": "code",
   "execution_count": 9,
   "metadata": {
    "collapsed": true
   },
   "outputs": [],
   "source": [
    "import os\n",
    "import sys\n",
    "import struct\n",
    "from PIL import Image\n",
    "import numpy as np"
   ]
  },
  {
   "cell_type": "code",
   "execution_count": 26,
   "metadata": {
    "collapsed": false
   },
   "outputs": [],
   "source": [
    "files = os.listdir('cars128x128/')\n",
    "for file in files:\n",
    "    if file == '.DS_Store':\n",
    "        continue\n",
    "    \n",
    "    #ファイル名定義\n",
    "    in_file = 'cars128x128/' + file\n",
    "    out_file = in_file.replace('ppm','jpg')\n",
    "    out_file = out_file.replace('cars128x128','front_end')\n",
    "    \n",
    "    img = Image.open(in_file)\n",
    "    img_mono = img.convert('L')\n",
    "    \n",
    "    img_mono.save(out_file)"
   ]
  },
  {
   "cell_type": "code",
   "execution_count": 28,
   "metadata": {
    "collapsed": false
   },
   "outputs": [],
   "source": [
    "files = os.listdir('Trainimages/')\n",
    "for file in files:\n",
    "    if file == '.DS_Store':\n",
    "        continue\n",
    "    #ファイル名定義\n",
    "    in_file = 'Trainimages/' + file\n",
    "    out_file = in_file.replace('pgm','jpg')\n",
    "    out_file = out_file.replace('Trainimages','side')\n",
    "        \n",
    "    img = Image.open(in_file)\n",
    "    img_resize = img.resize((128, 128))\n",
    "    img_mono = img_resize.convert('L')\n",
    "    \n",
    "    img_mono.save(out_file)"
   ]
  },
  {
   "cell_type": "code",
   "execution_count": null,
   "metadata": {
    "collapsed": true
   },
   "outputs": [],
   "source": []
  }
 ],
 "metadata": {
  "kernelspec": {
   "display_name": "Python 2",
   "language": "python",
   "name": "python2"
  },
  "language_info": {
   "codemirror_mode": {
    "name": "ipython",
    "version": 2
   },
   "file_extension": ".py",
   "mimetype": "text/x-python",
   "name": "python",
   "nbconvert_exporter": "python",
   "pygments_lexer": "ipython2",
   "version": "2.7.12"
  }
 },
 "nbformat": 4,
 "nbformat_minor": 0
}
